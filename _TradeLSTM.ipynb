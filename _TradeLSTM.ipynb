{
 "cells": [
  {
   "cell_type": "markdown",
   "id": "b5aeac12",
   "metadata": {},
   "source": [
    "## Library Imports"
   ]
  },
  {
   "cell_type": "code",
   "execution_count": 47,
   "id": "074dfb50",
   "metadata": {},
   "outputs": [],
   "source": [
    "import numpy as np  \n",
    "import matplotlib.pyplot as plt  # Plotting\n",
    "import seaborn as sns  # Better visualisation\n",
    "import pandas as pd  \n",
    "import datetime  # Date and time operations\n",
    "from datetime import datetime \n",
    "from sklearn.metrics import mean_squared_error  \n",
    "from sklearn.preprocessing import StandardScaler  # Feature scaling\n",
    "from keras.models import load_model  \n",
    "from binance.client import Client  # Binance API interaction\n",
    "from binance.exceptions import BinanceAPIException, BinanceOrderException  # API exceptions\n",
    "import time  \n",
    "\n",
    "# Rate limiter setup\n",
    "def rate_limiter(max_per_second):\n",
    "    \"\"\"\n",
    "    Decorator function to limit the rate of API calls.\n",
    "\n",
    "    Args:\n",
    "        max_per_second (int): Maximum number of API calls allowed per second.\n",
    "\n",
    "    Returns:\n",
    "        function: Decorated function with rate limiting.\n",
    "    \"\"\"\n",
    "    min_interval = 1.0 / float(max_per_second)\n",
    "    def decorate(func):\n",
    "        last_called = [0.0]\n",
    "        def rate_limited_function(*args, **kargs):\n",
    "            elapsed = time.time() - last_called[0]\n",
    "            left_to_wait = min_interval - elapsed\n",
    "            if left_to_wait > 0:\n",
    "                time.sleep(left_to_wait)\n",
    "            last_called[0] = time.time()\n",
    "            return func(*args, **kargs)\n",
    "        return rate_limited_function\n",
    "    return decorate"
   ]
  },
  {
   "cell_type": "markdown",
   "id": "04b0443b",
   "metadata": {},
   "source": [
    "The framework for data analysis and visualisation is built up by this code, which also includes libraries for managing time-related activities, graphing and numerical computation. It also provides a rate limiter function that controls the number of times an API call is made while using the Binance API."
   ]
  },
  {
   "cell_type": "markdown",
   "id": "e1a00df5",
   "metadata": {},
   "source": [
    "## Binance API Setup"
   ]
  },
  {
   "cell_type": "code",
   "execution_count": 48,
   "id": "554119cb",
   "metadata": {},
   "outputs": [
    {
     "name": "stdout",
     "output_type": "stream",
     "text": [
      "Client Loaded Successfully\n"
     ]
    }
   ],
   "source": [
    "# Define Binance API keys\n",
    "api_key = \"\"    # Binance API key\n",
    "secret_key = \"\"  # Binance API secret key\n",
    "\n",
    "# Binance client with error handling\n",
    "try:\n",
    "    client = Client(api_key, secret_key)\n",
    "    print(\"Client Loaded Successfully\")\n",
    "except Exception as e:\n",
    "    print(f\"Error initialising Binance Client: {e}\")"
   ]
  },
  {
   "cell_type": "markdown",
   "id": "c6400db5",
   "metadata": {},
   "source": [
    "## Fetch the Data"
   ]
  },
  {
   "cell_type": "code",
   "execution_count": 49,
   "id": "90963ede",
   "metadata": {},
   "outputs": [
    {
     "name": "stdout",
     "output_type": "stream",
     "text": [
      "Data fetch successful\n"
     ]
    }
   ],
   "source": [
    "# Fetch candlestick data from Binance with error handling\n",
    "symbol = 'BTCUSDT'  # Symbol for Bitcoin against USDT\n",
    "interval = Client.KLINE_INTERVAL_15MINUTE  # Interval for candlestick data\n",
    "limit = 1000  # Number of data points to fetch\n",
    "\n",
    "try:\n",
    "    dataset = client.get_klines(symbol=symbol, interval=interval, limit=limit)\n",
    "    print(\"Data fetch successful\")\n",
    "except BinanceAPIException as e:\n",
    "    print(f\"API Exception occurred: {e.status_code} - {e.message}\")\n",
    "except BinanceOrderException as e:\n",
    "    print(f\"Order Exception occurred: {e.status_code} - {e.message}\")\n",
    "except Exception as e:\n",
    "    print(f\"An unexpected error occurred: {e}\")"
   ]
  },
  {
   "cell_type": "markdown",
   "id": "93f20b8c",
   "metadata": {},
   "source": [
    "## Preprocessing the Data\n"
   ]
  },
  {
   "cell_type": "code",
   "execution_count": 50,
   "id": "8212046a",
   "metadata": {},
   "outputs": [],
   "source": [
    "# Preprocess the data\n",
    "price = np.array([float(dataset[i][4]) for i in range(len(dataset))])\n",
    "price = price.reshape(-1, 1) \n",
    "\n",
    "# StandardScaler\n",
    "scaler = StandardScaler()\n",
    "scaler.fit(price[:800])  # Fit the scaler on the first 800 candles for training\n",
    "prices_scaled = scaler.transform(price)  # Transform the entire dataset"
   ]
  },
  {
   "cell_type": "markdown",
   "id": "5f5d7ce6",
   "metadata": {},
   "source": [
    "StandardScaler is used to standardise the data in order to guarantee consistency and get the data ready for live trading. "
   ]
  },
  {
   "cell_type": "markdown",
   "id": "880ead96",
   "metadata": {},
   "source": [
    "## Loading the Model"
   ]
  },
  {
   "cell_type": "code",
   "execution_count": 51,
   "id": "67fb6a98",
   "metadata": {},
   "outputs": [
    {
     "name": "stdout",
     "output_type": "stream",
     "text": [
      "Model: \"sequential_1\"\n",
      "_________________________________________________________________\n",
      " Layer (type)                Output Shape              Param #   \n",
      "=================================================================\n",
      " bidirectional_1 (Bidirectio  (None, 4, 256)           133120    \n",
      " nal)                                                            \n",
      "                                                                 \n",
      " dropout_2 (Dropout)         (None, 4, 256)            0         \n",
      "                                                                 \n",
      " lstm_4 (LSTM)               (None, 4, 64)             82176     \n",
      "                                                                 \n",
      " dropout_3 (Dropout)         (None, 4, 64)             0         \n",
      "                                                                 \n",
      " lstm_5 (LSTM)               (None, 32)                12416     \n",
      "                                                                 \n",
      " dense_1 (Dense)             (None, 1)                 33        \n",
      "                                                                 \n",
      "=================================================================\n",
      "Total params: 227,745\n",
      "Trainable params: 227,745\n",
      "Non-trainable params: 0\n",
      "_________________________________________________________________\n"
     ]
    }
   ],
   "source": [
    "# Load LSTM model\n",
    "model_path = \"Final_LSTM%.h5\"\n",
    "loaded_model = load_model(model_path)\n",
    "loaded_model.summary()"
   ]
  },
  {
   "cell_type": "code",
   "execution_count": 52,
   "id": "a47bd94b",
   "metadata": {},
   "outputs": [
    {
     "name": "stdout",
     "output_type": "stream",
     "text": [
      "WARNING:tensorflow:6 out of the last 10 calls to <function Model.make_predict_function.<locals>.predict_function at 0x000002774256CB80> triggered tf.function retracing. Tracing is expensive and the excessive number of tracings could be due to (1) creating @tf.function repeatedly in a loop, (2) passing tensors with different shapes, (3) passing Python objects instead of tensors. For (1), please define your @tf.function outside of the loop. For (2), @tf.function has reduce_retracing=True option that can avoid unnecessary retracing. For (3), please refer to https://www.tensorflow.org/guide/function#controlling_retracing and https://www.tensorflow.org/api_docs/python/tf/function for  more details.\n",
      "1/1 [==============================] - 2s 2s/step\n",
      "69460.42\n"
     ]
    }
   ],
   "source": [
    "index = [996, 997, 998, 999]\n",
    "candles = scaler.transform(np.array([float(dataset[i][4]) for i in index]).reshape(-1,1))\n",
    "\n",
    "model_feed = candles.reshape(1,4,1)\n",
    "# (1, 4, 1) for prediction\n",
    "prediction = loaded_model.predict(model_feed)\n",
    "\n",
    "# We reshape it to (-1, 1) to make it a 2D array with a single column\n",
    "prediction_reshaped = prediction.reshape(-1, 1)\n",
    "\n",
    "# Now we can apply the inverse transform\n",
    "predicted_price = scaler.inverse_transform(prediction_reshaped)[0][0]\n",
    "\n",
    "print(predicted_price)"
   ]
  },
  {
   "cell_type": "markdown",
   "id": "44491577",
   "metadata": {},
   "source": [
    "A loaded model is used  to estimate the future price after reshaping the scaled candle data to the appropriate format. To get the predicted cost in the original scale, it then performs the inverse transform."
   ]
  },
  {
   "cell_type": "markdown",
   "id": "6b060dd8",
   "metadata": {},
   "source": [
    "## Risk Management"
   ]
  },
  {
   "cell_type": "code",
   "execution_count": 53,
   "id": "12ccf871",
   "metadata": {},
   "outputs": [],
   "source": [
    "# Define stop loss and take profit percentages\n",
    "stop_loss_percentage = 0.05  # 5%\n",
    "take_profit_percentage = 0.1  # 10%\n",
    "\n",
    "account_balance = 20  # Based on my actual account balance\n",
    "risk_per_trade = 0.02"
   ]
  },
  {
   "cell_type": "code",
   "execution_count": 54,
   "id": "03c46bc4",
   "metadata": {},
   "outputs": [
    {
     "name": "stdout",
     "output_type": "stream",
     "text": [
      "Position size based on account balance and risk per trade: 0.4\n"
     ]
    }
   ],
   "source": [
    "# Define a function to calculate the position size based on account balance, risk per trade and stop loss percentage\n",
    "def calculate_position_size(account_balance, risk_per_trade, stop_loss_percentage):\n",
    "    \"\"\"\n",
    "    Calculates the position size based on the account balance, risk per trade and stop loss percentage.\n",
    "\n",
    "    \"\"\"\n",
    "    risk_amount = account_balance * risk_per_trade\n",
    "    position_size = risk_amount / (stop_loss_percentage * account_balance)\n",
    "    return position_size\n",
    "\n",
    "# Calculate the position size\n",
    "position_size = calculate_position_size(account_balance, risk_per_trade, stop_loss_percentage)\n",
    "\n",
    "# Print the calculated position size\n",
    "print(f\"Position size based on account balance and risk per trade: {position_size}\")\n"
   ]
  },
  {
   "cell_type": "code",
   "execution_count": 55,
   "id": "5e342a68",
   "metadata": {},
   "outputs": [],
   "source": [
    "# Apply the rate limiter to control API calls\n",
    "@rate_limiter(1)\n",
    "def get_current_price(symbol):\n",
    "    # Get the current price of a symbol from the Binance API.\n",
    "    try:\n",
    "        current_prices = client.get_symbol_ticker(symbol=symbol)\n",
    "        current_price = float(current_prices['price'])\n",
    "        return current_price\n",
    "    except BinanceAPIException as e:\n",
    "        # Handle Binance API exceptions\n",
    "        print(f\"API Exception occurred: {e.status_code} - {e.message}\")\n",
    "        return None\n",
    "    except Exception as e:\n",
    "        # Handle other unexpected errors\n",
    "        print(f\"An unexpected error occurred: {e}\")\n",
    "        return None"
   ]
  },
  {
   "cell_type": "markdown",
   "id": "473fd3c3",
   "metadata": {},
   "source": [
    "The present value of a specified cryptocurrency symbol (BTC) can be obtained by this function from the Binance API and a rate limitations is implemented to regulate the frequency of API requests. It correctly manages unforeseen problems and Binance API exceptions."
   ]
  },
  {
   "cell_type": "markdown",
   "id": "be3fbf90",
   "metadata": {},
   "source": [
    "## Prediction Example"
   ]
  },
  {
   "cell_type": "code",
   "execution_count": 56,
   "id": "d38edf5a",
   "metadata": {},
   "outputs": [
    {
     "name": "stdout",
     "output_type": "stream",
     "text": [
      "1/1 [==============================] - 0s 34ms/step\n",
      "Current Price: 69050.62, Predicted Price: 69460.421875\n"
     ]
    }
   ],
   "source": [
    "# Get current price from the Binance API\n",
    "current_price = get_current_price(symbol)\n",
    "\n",
    "# Predict next price using the loaded model\n",
    "latest_prices_scaled = prices_scaled[-4:].reshape(1, 4, 1)\n",
    "\n",
    "# Predict next price using the loaded model\n",
    "predicted_price_scaled = loaded_model.predict(latest_prices_scaled)\n",
    "\n",
    "# Inverse transform the predicted price to get the actual price\n",
    "predicted_price = scaler.inverse_transform(predicted_price_scaled.reshape(-1, 1))[0][0]\n",
    "\n",
    "# Print the current and predicted prices\n",
    "print(f\"Current Price: {current_price}, Predicted Price: {predicted_price}\")"
   ]
  },
  {
   "cell_type": "markdown",
   "id": "5f3cbc26",
   "metadata": {},
   "source": [
    "# Tarding Logic And Actual Trading"
   ]
  },
  {
   "cell_type": "code",
   "execution_count": null,
   "id": "d6e0dccf",
   "metadata": {
    "scrolled": false
   },
   "outputs": [
    {
     "name": "stdout",
     "output_type": "stream",
     "text": [
      "1/1 [==============================] - 0s 24ms/step\n",
      "Current Price: 69050.63, Predicted Price: 69460.421875\n",
      "Buy @Market Price: 69050.63, Timestamp: 2024-04-09 15:57:53.335300\n",
      "1/1 [==============================] - 0s 33ms/step\n",
      "Current Price: 69228.42, Predicted Price: 69525.2421875\n",
      "1/1 [==============================] - 0s 49ms/step\n",
      "Current Price: 69326.94, Predicted Price: 69561.8515625\n",
      "1/1 [==============================] - 0s 34ms/step\n",
      "Current Price: 69312.01, Predicted Price: 69418.84375\n",
      "1/1 [==============================] - 0s 21ms/step\n",
      "Current Price: 69172.0, Predicted Price: 69365.375\n",
      "1/1 [==============================] - 0s 29ms/step\n",
      "Current Price: 69192.01, Predicted Price: 69373.046875\n",
      "1/1 [==============================] - 0s 24ms/step\n",
      "Current Price: 69154.37, Predicted Price: 69358.6015625\n",
      "1/1 [==============================] - 0s 16ms/step\n",
      "Current Price: 69084.0, Predicted Price: 69333.015625\n",
      "1/1 [==============================] - 0s 35ms/step\n",
      "Current Price: 69042.77, Predicted Price: 69315.515625\n",
      "1/1 [==============================] - 0s 33ms/step\n",
      "Current Price: 69148.37, Predicted Price: 69356.2890625\n",
      "1/1 [==============================] - 0s 36ms/step\n",
      "Current Price: 68980.32, Predicted Price: 69291.25\n",
      "1/1 [==============================] - 0s 44ms/step\n",
      "Current Price: 68979.99, Predicted Price: 69291.125\n",
      "1/1 [==============================] - 0s 30ms/step\n",
      "Current Price: 68874.32, Predicted Price: 69251.40625\n",
      "1/1 [==============================] - 0s 21ms/step\n",
      "Current Price: 68731.16, Predicted Price: 69193.375\n",
      "1/1 [==============================] - 0s 17ms/step\n",
      "Current Price: 68587.26, Predicted Price: 69139.953125\n",
      "1/1 [==============================] - 0s 43ms/step\n",
      "Current Price: 68724.97, Predicted Price: 69190.9140625\n",
      "1/1 [==============================] - 0s 37ms/step\n",
      "Current Price: 68866.87, Predicted Price: 69246.890625\n",
      "1/1 [==============================] - 0s 34ms/step\n",
      "Current Price: 68909.89, Predicted Price: 69063.6953125\n",
      "1/1 [==============================] - 0s 25ms/step\n",
      "Current Price: 68995.56, Predicted Price: 69098.078125\n",
      "1/1 [==============================] - 0s 104ms/step\n",
      "Current Price: 68931.99, Predicted Price: 69072.578125\n",
      "1/1 [==============================] - 0s 48ms/step\n",
      "Current Price: 68952.01, Predicted Price: 69080.625\n",
      "1/1 [==============================] - 0s 32ms/step\n",
      "Current Price: 69012.01, Predicted Price: 69104.6640625\n",
      "1/1 [==============================] - 0s 37ms/step\n",
      "Current Price: 69134.59, Predicted Price: 69153.4921875\n",
      "1/1 [==============================] - 0s 70ms/step\n",
      "Current Price: 69144.0, Predicted Price: 69157.21875\n",
      "1/1 [==============================] - 0s 76ms/step\n",
      "Current Price: 69152.01, Predicted Price: 69160.3984375\n",
      "1/1 [==============================] - 0s 24ms/step\n",
      "Current Price: 69080.34, Predicted Price: 69131.9296875\n",
      "1/1 [==============================] - 0s 35ms/step\n",
      "Current Price: 69119.03, Predicted Price: 69147.3125\n",
      "1/1 [==============================] - 0s 37ms/step\n",
      "Current Price: 69148.01, Predicted Price: 69157.21875\n",
      "1/1 [==============================] - 0s 28ms/step\n",
      "Current Price: 69149.08, Predicted Price: 69159.234375\n",
      "1/1 [==============================] - 0s 41ms/step\n",
      "Current Price: 69118.5, Predicted Price: 69147.1015625\n",
      "1/1 [==============================] - 0s 16ms/step\n",
      "Current Price: 69052.43, Predicted Price: 69120.8125\n",
      "1/1 [==============================] - 0s 31ms/step\n",
      "Current Price: 68924.93, Predicted Price: 69069.7421875\n",
      "1/1 [==============================] - 0s 39ms/step\n",
      "Current Price: 68891.48, Predicted Price: 68983.7734375\n",
      "1/1 [==============================] - 0s 84ms/step\n",
      "Current Price: 69004.0, Predicted Price: 69029.3828125\n",
      "1/1 [==============================] - 0s 95ms/step\n",
      "Current Price: 68902.14, Predicted Price: 68987.375\n",
      "1/1 [==============================] - 0s 30ms/step\n",
      "Current Price: 68915.74, Predicted Price: 68993.6328125\n",
      "1/1 [==============================] - 0s 32ms/step\n",
      "Current Price: 68951.52, Predicted Price: 69008.1484375\n",
      "1/1 [==============================] - 0s 43ms/step\n",
      "Current Price: 68970.37, Predicted Price: 69014.8203125\n",
      "1/1 [==============================] - 0s 30ms/step\n",
      "Current Price: 69056.01, Predicted Price: 69050.359375\n",
      "Sell @Market Price: 69056.01, Timestamp: 2024-04-09 16:36:23.771547\n",
      "1/1 [==============================] - 0s 42ms/step\n",
      "Current Price: 69123.65, Predicted Price: 69077.546875\n",
      "1/1 [==============================] - 0s 32ms/step\n",
      "Current Price: 69080.46, Predicted Price: 69060.1953125\n",
      "1/1 [==============================] - 0s 42ms/step\n",
      "Current Price: 69164.0, Predicted Price: 69093.703125\n",
      "1/1 [==============================] - 0s 41ms/step\n",
      "Current Price: 69115.76, Predicted Price: 69074.375\n",
      "1/1 [==============================] - 0s 28ms/step\n",
      "Current Price: 69099.86, Predicted Price: 69067.9921875\n",
      "1/1 [==============================] - 0s 38ms/step\n",
      "Current Price: 69098.52, Predicted Price: 69067.453125\n",
      "1/1 [==============================] - 0s 26ms/step\n",
      "Current Price: 69113.62, Predicted Price: 69073.515625\n",
      "1/1 [==============================] - 0s 33ms/step\n",
      "Current Price: 68943.53, Predicted Price: 69004.90625\n",
      "Buy @Market Price: 68943.53, Timestamp: 2024-04-09 16:44:30.128919\n",
      "1/1 [==============================] - 0s 82ms/step\n",
      "Current Price: 69024.54, Predicted Price: 69013.5078125\n",
      "Sell @Market Price: 69024.54, Timestamp: 2024-04-09 16:45:30.962274\n",
      "1/1 [==============================] - 0s 79ms/step\n",
      "Current Price: 69033.36, Predicted Price: 69017.0703125\n",
      "1/1 [==============================] - 0s 42ms/step\n",
      "Current Price: 69084.0, Predicted Price: 69037.484375\n",
      "1/1 [==============================] - 0s 32ms/step\n",
      "Current Price: 69145.07, Predicted Price: 69062.0234375\n",
      "1/1 [==============================] - 0s 35ms/step\n",
      "Current Price: 69244.01, Predicted Price: 69101.5703125\n",
      "1/1 [==============================] - 0s 35ms/step\n",
      "Current Price: 69199.13, Predicted Price: 69084.0078125\n",
      "1/1 [==============================] - 0s 44ms/step\n",
      "Current Price: 69187.43, Predicted Price: 69079.3828125\n",
      "1/1 [==============================] - 0s 70ms/step\n",
      "Current Price: 69151.44, Predicted Price: 69064.578125\n"
     ]
    }
   ],
   "source": [
    "# Trading Logic And Actual Trading\n",
    "symbol = \"BTCUSDT\"  # Symbol of Pair\n",
    "quantity = '0.05'  # Quantity to trade\n",
    "order = False\n",
    "\n",
    "\n",
    "while True:\n",
    "    try:\n",
    "        # Fetch recent trades for the current price\n",
    "        recent_trades = client.get_recent_trades(symbol=symbol)\n",
    "        current_price = float(recent_trades[-1]['price']) \n",
    "        \n",
    "        # Fetch candle data for prediction\n",
    "        candles = client.get_klines(symbol=symbol, interval=Client.KLINE_INTERVAL_15MINUTE, limit=4)\n",
    "        model_data = np.array([float(candle[4]) for candle in candles]).reshape(-1, 1)\n",
    "        model_data_scaled = scaler.transform(model_data).reshape(1, 4, 1)\n",
    "        \n",
    "        # Predict the next price\n",
    "        predicted_price_scaled = loaded_model.predict(model_data_scaled)\n",
    "        predicted_price = scaler.inverse_transform(predicted_price_scaled.reshape(-1, 1))[0][0]\n",
    "        \n",
    "        print(f\"Current Price: {current_price}, Predicted Price: {predicted_price}\")\n",
    "        \n",
    "        # Trading decision based on the prediction\n",
    "        if not order and predicted_price > current_price:#\n",
    "            order = True\n",
    "            # Uncomment to place a market buy order\n",
    "            #buy_price = client.get_order_book(symbol=symbol)['asks'][0][0] \n",
    "            #buy_order = client.order_market_buy(symbol=symbol, quantity=quantity)\n",
    "            print(f\"Buy @Market Price: {current_price}, Timestamp: {datetime.now()}\")\n",
    "            \n",
    "        elif order and current_price > predicted_price:\n",
    "            order = False\n",
    "            # Uncomment to place a market sell order\n",
    "            #sell_price = client.get_order_book(symbol=symbol)['bids'][0][0] \n",
    "            #sell_order = client.order_market_sell(symbol=symbol, quantity=quantity)\n",
    "            print(f\"Sell @Market Price: {current_price}, Timestamp: {datetime.now()}\")\n",
    "            \n",
    "\n",
    "    except BinanceAPIException as e:\n",
    "        print(f\"Binance API Exception: {e.message}\")\n",
    "    except BinanceOrderException as e:\n",
    "        print(f\"Binance Order Exception: {e.message}\")\n",
    "    except Exception as e:\n",
    "        print(f\"An unexpected error occurred: {e}\")\n",
    "\n",
    "    time.sleep(60)  # Wait before the next iteration to avoid hitting rate limits"
   ]
  },
  {
   "cell_type": "markdown",
   "id": "501fba3f",
   "metadata": {},
   "source": [
    "A basic trading strategy based on price forecasts is demonstrated in this code section. It runs in a loop, regularly retrieving information from candlesticks and recent transaction data to predict the next change in price. It predicts the direction of price movement and then decides whether to execute a market buy or sell order for BTC Price. A comparison between the predicted cost and the current market price helps the process of decision-making. All noticed errors are appropriately handled to guarantee seamless operation, especially order exceptions and API problems. The script stops briefly in between iterations to avoid going above rate limitations."
   ]
  },
  {
   "cell_type": "markdown",
   "id": "ef04f90a",
   "metadata": {},
   "source": [
    "## References\n",
    "\n",
    "\n",
    "- Project on the Development of a Crypto Trading Bot. Detailed guide on creating and managing a cryptocurrency trading bot using Python and Binance API. Available at: https://dev.to/nicolasbonnici/how-to-build-a-crypto-bot-with-python-3-and-the-binance-api-part-1-1864\n",
    "- Application of Technical Analysis Strategies in Cryptocurrency Trading. Explanation and implementation of technical trading strategies using the Binance API. Available at: https://www.learndatasci.com/tutorials/algo-trading-crypto-bot-python-strategy-backtesting/\n",
    "\n",
    "- Handling Errors and API Management in Crypto Trading. Discussion on robust error handling techniques for maintaining operational stability of trading bots on Binance. Available at: https://www.learndatasci.com/tutorials/algo-trading-crypto-bot-python-strategy-backtesting/\n",
    "\n",
    "- Binance Trading API – Creating Your First Simple Crypto-Trading Bot. Available at: https://blog.finxter.com/binance-api-trading-bot/\n",
    "\n",
    "- Binance API documentation. https://binance-docs.github.io/apidocs/spot/en/\n",
    "\n",
    "- Using LSTM for Cryptocurrency Trading. A detailed look at using LSTM models for predicting cryptocurrency prices effectively. Available at: https://www.analyticsvidhya.com/blog/2021/01/algotrading-using-technical-indicator-and-ml-models/\n",
    "\n",
    "- Al-Nefaie, A.H. and Aldhyani, T.H.H., 2022. Bitcoin Price Forecasting and Trading: Data Analytics Approaches. Electronics, 11(24), p.4088. Available at: https://www.mdpi.com/2079-9292/11/24/4088 "
   ]
  }
 ],
 "metadata": {
  "kernelspec": {
   "display_name": "Python 3 (ipykernel)",
   "language": "python",
   "name": "python3"
  },
  "language_info": {
   "codemirror_mode": {
    "name": "ipython",
    "version": 3
   },
   "file_extension": ".py",
   "mimetype": "text/x-python",
   "name": "python",
   "nbconvert_exporter": "python",
   "pygments_lexer": "ipython3",
   "version": "3.9.13"
  }
 },
 "nbformat": 4,
 "nbformat_minor": 5
}
