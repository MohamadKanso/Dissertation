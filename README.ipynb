{
 "cells": [
  {
   "cell_type": "markdown",
   "id": "2ee12e30",
   "metadata": {},
   "source": [
    "# Trading Bot\n",
    "\n"
   ]
  },
  {
   "cell_type": "markdown",
   "id": "922195d7",
   "metadata": {},
   "source": [
    "##### Prerequisites\n",
    "\n",
    "Make sure Jupyter Notebooks is installed on your device before continuing. Please follow the official installation guide if you haven't already.  [here](https://jupyter.org/install) to set it up on your system. As an alternative, you can set up Jupyter Notebooks using the Anaconda distribution, which is accessible [here](https://www.anaconda.com/).\n"
   ]
  },
  {
   "cell_type": "markdown",
   "id": "f161f345",
   "metadata": {},
   "source": [
    "\n",
    "## Table of Contents\n",
    "\n",
    "- [Description](#description)\n",
    "- [Folder Structure](#folder-structure)\n",
    "- [Installation](#installation)\n",
    "- [Testing](#testing)\n"
   ]
  },
  {
   "cell_type": "markdown",
   "id": "248a70d8",
   "metadata": {},
   "source": [
    "## Description\n",
    "\n",
    "Beginning with an exploratory data analysis (EDA) to identify market trends, this project builds a trading bot that uses LSTM networks to predict changes in the price of Bitcoin on the Binance platform. Four models were created using the knowledge obtained: a Linear Regression model, two LSTM variations and a Naive Baseline for benchmarking. To evaluate the efficacy of the LSTM Normal and Linear Regression models thorough backtesting was done. These models were tested in real-world trading environments. The setup specifications and operation of the trading bot are described in this README."
   ]
  },
  {
   "cell_type": "markdown",
   "id": "fd7024f1",
   "metadata": {},
   "source": [
    "## Folder Structure\n",
    "\n",
    "The project is organised into the following structure:\n",
    "\n",
    "1. **EDA**: \n",
    "   - _<u>Final_EDA.ipynb</u>_: Contains the exploratory data analysis (EDA) performed on the dataset.\n",
    "   \n",
    "2. **Models**:\n",
    "   - _<u>INDICATOR_LSTM.ipynb</u>_: The LSTM model is implemented with extra indicators.\n",
    "   - _<u>LSTM_Normal.ipynb</u>_: The LSTM model is implemented without extra indicators.\n",
    "   - _<u>LinearRegression.ipynb</u>_: The implementation of the Linear Regression model.\n",
    "   - _<u>Naive_Baseline.ipynb</u>_: The implementation of a naive baseline model.\n",
    "\n",
    "3. **Backtest folder**:\n",
    "   - _<u>Backtesting.ipynb</u>_: The backtesting implementation used to evaluate model performance.\n",
    "\n",
    "4. **Live Trading Bots**:\n",
    "   - _<u>TradeLSTM.ipynb</u>_: The implementation of a live trading bot using the LSTM model.\n",
    "   - _<u>TradeLR.ipynb</u>_: The implementation of a live trading bot using the Linear Regression model.\n",
    "\n",
    "5. **Saved Models**:\n",
    "   - <u>Final_LSTM%.h5</u>: Saved LSTM model.\n",
    "   - <u>Final_LR.pkl</u>: Saved Linear Regression model.\n",
    "\n",
    "Ensure that you browse to the appropriate files to access specific project components."
   ]
  },
  {
   "cell_type": "markdown",
   "id": "a6f07956",
   "metadata": {},
   "source": [
    "## Installation\n",
    "\n",
    "**Instructions:**  \n",
    "Please follow the instructions outlined below to properly install the project's dependencies.\n",
    "\n",
    "### Required Installations for Jupyter Notebook\n",
    "\n",
    "To run the code in Jupyter Notebook, make sure you have the following libraries installed:\n",
    "\n",
    "```bash\n",
    "pip install numpy\n",
    "pip install matplotlib\n",
    "pip install pandas\n",
    "pip install python-binance   **Important**\n",
    "pip install scikit-learn\n",
    "pip install keras\n",
    "pip install yfinance\n",
    "pip install seaborn\n",
    "pip install joblib\n"
   ]
  },
  {
   "cell_type": "markdown",
   "id": "18ab42e9",
   "metadata": {},
   "source": [
    "## Testing\n",
    "\n",
    "To test the project, follow these steps:\n",
    "\n",
    "1. **Exploratory Data Analysis (EDA)**:\n",
    "   - Open the EDA file (_Final_EDA.ipynb) and run the notebook to analyse the dataset using exploratory data analysis.\n",
    "\n",
    "2. **Model Training**:\n",
    "   - Navigate to and execute the subsequent notebooks in any sequence.:\n",
    "     - _INDICATOR_LSTM.ipynb: Train the LSTM model with indicators.\n",
    "     - _LSTM_Normal.ipynb: Train the LSTM model without indicators.\n",
    "     - _LinearRegression.ipynb: Train the Linear Regression model.\n",
    "     - _Naive_Baseline.ipynb: (Optional) Train the naive baseline model for comparison.\n",
    "\n",
    "3. **Backtesting**:\n",
    "   - To assess trained models' performance using backtesting methods, open and run the _Backtesting.ipynb notebook.\n",
    "\n",
    "4. **Live Trading**:\n",
    "   - To run live trading bots using the learned LSTM and Linear Regression models, accordingly navigate to and launch the _TradeLSTM.ipynb and _TradeLR.ipynb notebooks.\n",
    "\n",
    "#### Note: For better results in the LSTM_Normal and LinearRegression models, you have the option to uncomment the lines of code that save the models and rewrite the existing models during training.\n"
   ]
  },
  {
   "cell_type": "markdown",
   "id": "7832246a",
   "metadata": {},
   "source": [
    "## Additional Information\n",
    "\n",
    "The following notebooks utilise the provided data to perform analysis, model training and evaluation:\n",
    "\n",
    "- _INDICATOR_LSTM.ipynb\n",
    "- _LSTM_Normal.ipynb\n",
    "- _LinearRegression.ipynb\n",
    "- _Naive_Baseline.ipynb\n",
    "- _Final_EDA.ipynb\n",
    "\n",
    "These notebooks initialise a Binance client, retrieve candlestick data, and use it for further research and model training:\n",
    "\n",
    "```python\n",
    "# Initialise Binance client\n",
    "client = Client(api_key, secret_key)\n",
    "\n",
    "# Fetch candlestick data from Binance\n",
    "symbol = 'BTCUSDT'  # Symbol for BTC against USDT\n",
    "interval = Client.KLINE_INTERVAL_15MINUTE  # Interval for candlestick data\n",
    "limit = 1000  # Number of data points to fetch\n",
    "dataset = client.get_klines(symbol=symbol, interval=interval, limit=limit)  # Fetch candlestick data\n"
   ]
  },
  {
   "cell_type": "markdown",
   "id": "fb4839b2",
   "metadata": {},
   "source": [
    "The **_Backtesting.ipynb** notebook uses the following data for backtesting purposes:\n",
    "\n",
    "```python\n",
    "btc_data_15m = yf.download(tickers='BTC-USD', period='60d', interval='15m')\n"
   ]
  },
  {
   "cell_type": "markdown",
   "id": "ef1265b2",
   "metadata": {},
   "source": [
    "To ensure an accurate replication of the analysis, training,and backtesting processes, make sure these notebooks are running with access to the datasets supplied."
   ]
  }
 ],
 "metadata": {
  "kernelspec": {
   "display_name": "Python 3 (ipykernel)",
   "language": "python",
   "name": "python3"
  },
  "language_info": {
   "codemirror_mode": {
    "name": "ipython",
    "version": 3
   },
   "file_extension": ".py",
   "mimetype": "text/x-python",
   "name": "python",
   "nbconvert_exporter": "python",
   "pygments_lexer": "ipython3",
   "version": "3.9.13"
  }
 },
 "nbformat": 4,
 "nbformat_minor": 5
}
