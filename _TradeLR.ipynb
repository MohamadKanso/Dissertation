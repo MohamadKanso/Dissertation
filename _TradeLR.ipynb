{
 "cells": [
  {
   "cell_type": "markdown",
   "id": "dee0ff99",
   "metadata": {},
   "source": [
    "## Library Imports"
   ]
  },
  {
   "cell_type": "code",
   "execution_count": 30,
   "id": "074dfb50",
   "metadata": {},
   "outputs": [],
   "source": [
    "import numpy as np  \n",
    "import matplotlib.pyplot as plt  # Plotting\n",
    "import seaborn as sns  # Better visualisation\n",
    "import pandas as pd  \n",
    "import datetime  # Date and time operations\n",
    "from datetime import datetime \n",
    "from sklearn.metrics import mean_squared_error  \n",
    "from sklearn.preprocessing import StandardScaler  # Feature scaling\n",
    "from keras.models import load_model  \n",
    "from binance.client import Client  # Binance API interaction\n",
    "from binance.exceptions import BinanceAPIException, BinanceOrderException  # API exceptions\n",
    "import time  \n",
    "\n",
    "# Rate limiter setup\n",
    "def rate_limiter(max_per_second):\n",
    "    \"\"\"\n",
    "    Decorator function to limit the rate of API calls.\n",
    "\n",
    "    Args:\n",
    "        max_per_second (int): Maximum number of API calls allowed per second.\n",
    "\n",
    "    Returns:\n",
    "        function: Decorated function with rate limiting.\n",
    "    \"\"\"\n",
    "    min_interval = 1.0 / float(max_per_second)\n",
    "    def decorate(func):\n",
    "        last_called = [0.0]\n",
    "        def rate_limited_function(*args, **kargs):\n",
    "            elapsed = time.time() - last_called[0]\n",
    "            left_to_wait = min_interval - elapsed\n",
    "            if left_to_wait > 0:\n",
    "                time.sleep(left_to_wait)\n",
    "            last_called[0] = time.time()\n",
    "            return func(*args, **kargs)\n",
    "        return rate_limited_function\n",
    "    return decorate"
   ]
  },
  {
   "cell_type": "markdown",
   "id": "fb8c3ecd",
   "metadata": {},
   "source": [
    "The framework for data analysis and visualisation is built up by this code, which also includes libraries for managing time-related activities, graphing and numerical computation. It also provides a rate limiter function that controls the number of times an API call is made while using the Binance API."
   ]
  },
  {
   "cell_type": "markdown",
   "id": "7c597381",
   "metadata": {},
   "source": [
    "## Binance API Setup"
   ]
  },
  {
   "cell_type": "code",
   "execution_count": 31,
   "id": "554119cb",
   "metadata": {},
   "outputs": [
    {
     "name": "stdout",
     "output_type": "stream",
     "text": [
      "Client Loaded Successfully\n"
     ]
    }
   ],
   "source": [
    "# Define Binance API keys\n",
    "api_key = \"\"    # Binance API key\n",
    "secret_key = \"\"  # Binance API secret key\n",
    "\n",
    "# Binance client with error handling\n",
    "try:\n",
    "    client = Client(api_key, secret_key)\n",
    "    print(\"Client Loaded Successfully\")\n",
    "except Exception as e:\n",
    "    print(f\"Error initializing Binance Client: {e}\")"
   ]
  },
  {
   "cell_type": "markdown",
   "id": "fabefca9",
   "metadata": {},
   "source": [
    "## Fetch the Data "
   ]
  },
  {
   "cell_type": "code",
   "execution_count": 32,
   "id": "90963ede",
   "metadata": {},
   "outputs": [
    {
     "name": "stdout",
     "output_type": "stream",
     "text": [
      "Data fetch successful\n"
     ]
    }
   ],
   "source": [
    "# Fetch candlestick data from Binance with error handling\n",
    "symbol = 'BTCUSDT'  # Symbol for Bitcoin against USDT\n",
    "interval = Client.KLINE_INTERVAL_15MINUTE  # Interval for candlestick data\n",
    "limit = 1000  # Number of data points to fetch\n",
    "\n",
    "try:\n",
    "    dataset = client.get_klines(symbol=symbol, interval=interval, limit=limit)\n",
    "    print(\"Data fetch successful\")\n",
    "except BinanceAPIException as e:\n",
    "    print(f\"API Exception occurred: {e.status_code} - {e.message}\")\n",
    "except BinanceOrderException as e:\n",
    "    print(f\"Order Exception occurred: {e.status_code} - {e.message}\")\n",
    "except Exception as e:\n",
    "    print(f\"An unexpected error occurred: {e}\")"
   ]
  },
  {
   "cell_type": "markdown",
   "id": "857a7ca4",
   "metadata": {},
   "source": [
    "## Preprocessing the Data"
   ]
  },
  {
   "cell_type": "code",
   "execution_count": 33,
   "id": "8212046a",
   "metadata": {},
   "outputs": [],
   "source": [
    "# Preprocess the data\n",
    "price = np.array([float(dataset[i][4]) for i in range(len(dataset))])\n",
    "price = price.reshape(-1, 1) \n",
    "\n",
    "# StandardScaler\n",
    "scaler = StandardScaler()\n",
    "scaler.fit(price[:800])  # Fit the scaler on the first 800 candles for training\n",
    "prices_scaled = scaler.transform(price)  # Transform the entire dataset"
   ]
  },
  {
   "cell_type": "markdown",
   "id": "dcd5a7ff",
   "metadata": {},
   "source": [
    "StandardScaler is used to standardise the data in order to guarantee consistency and get the data ready for live trading."
   ]
  },
  {
   "cell_type": "markdown",
   "id": "a364c725",
   "metadata": {},
   "source": [
    "## Loading the Model"
   ]
  },
  {
   "cell_type": "code",
   "execution_count": 34,
   "id": "67fb6a98",
   "metadata": {},
   "outputs": [
    {
     "name": "stdout",
     "output_type": "stream",
     "text": [
      "Intercept: 0.012171757406324195\n",
      "Coefficients: [-0.06273781  0.01540444  0.14570403  0.89632762]\n"
     ]
    }
   ],
   "source": [
    "# Load LR model\n",
    "import joblib\n",
    "\n",
    "# Load the trained Linear Regression model\n",
    "loaded_model = joblib.load(\"Final_LR.pkl\")\n",
    "\n",
    "# Inspect the model's attributes and coefficients\n",
    "print(\"Intercept:\", loaded_model.intercept_)\n",
    "print(\"Coefficients:\", loaded_model.coef_)\n"
   ]
  },
  {
   "cell_type": "code",
   "execution_count": 35,
   "id": "0779d0e7",
   "metadata": {},
   "outputs": [],
   "source": [
    "import warnings\n",
    "\n",
    "# Suppressing the warning\n",
    "warnings.filterwarnings('ignore', message=\"X does not have valid feature names\")"
   ]
  },
  {
   "cell_type": "code",
   "execution_count": 36,
   "id": "a47bd94b",
   "metadata": {},
   "outputs": [
    {
     "name": "stdout",
     "output_type": "stream",
     "text": [
      "67591.97855020862\n"
     ]
    }
   ],
   "source": [
    "index = [996, 997, 998, 999]\n",
    "candles = scaler.transform(np.array([float(dataset[i][4]) for i in index]).reshape(-1,1))\n",
    "\n",
    "model_feed = candles.reshape(1, 4)  # reshape to (1, 4)\n",
    "\n",
    "prediction = loaded_model.predict(model_feed)\n",
    "\n",
    "# We reshape it to (-1, 1) to make it a 2D array with a single column\n",
    "prediction_reshaped = prediction.reshape(-1, 1)\n",
    "\n",
    "# Now we can  apply the inverse transform\n",
    "predicted_price = scaler.inverse_transform(prediction_reshaped)[0][0]\n",
    "\n",
    "print(predicted_price)"
   ]
  },
  {
   "cell_type": "markdown",
   "id": "0c5ff820",
   "metadata": {},
   "source": [
    "A loaded model is used  to estimate the future price after reshaping the scaled candle data to the appropriate format. To get the predicted cost in the original scale, it then performs the inverse transform."
   ]
  },
  {
   "cell_type": "markdown",
   "id": "848eabe6",
   "metadata": {},
   "source": [
    "## Risk Management"
   ]
  },
  {
   "cell_type": "code",
   "execution_count": 37,
   "id": "12ccf871",
   "metadata": {},
   "outputs": [],
   "source": [
    "# Define stop loss and take profit percentages\n",
    "stop_loss_percentage = 0.05  # 5%\n",
    "take_profit_percentage = 0.1  # 10%\n",
    "\n",
    "account_balance = 20  # Based on my actual account balance\n",
    "risk_per_trade = 0.02"
   ]
  },
  {
   "cell_type": "code",
   "execution_count": 38,
   "id": "03c46bc4",
   "metadata": {},
   "outputs": [
    {
     "name": "stdout",
     "output_type": "stream",
     "text": [
      "Position size based on account balance and risk per trade: 0.4\n"
     ]
    }
   ],
   "source": [
    "# Define a function to calculate the position size based on account balance, risk per trade and stop loss percentage\n",
    "def calculate_position_size(account_balance, risk_per_trade, stop_loss_percentage):\n",
    "    \"\"\"\n",
    "    Calculates the position size based on the account balance, risk per trade and stop loss percentage.\n",
    "\n",
    "    \"\"\"\n",
    "    risk_amount = account_balance * risk_per_trade\n",
    "    position_size = risk_amount / (stop_loss_percentage * account_balance)\n",
    "    return position_size\n",
    "\n",
    "# Calculate the position size\n",
    "position_size = calculate_position_size(account_balance, risk_per_trade, stop_loss_percentage)\n",
    "\n",
    "# Print the calculated position size\n",
    "print(f\"Position size based on account balance and risk per trade: {position_size}\")"
   ]
  },
  {
   "cell_type": "code",
   "execution_count": 39,
   "id": "5e342a68",
   "metadata": {},
   "outputs": [],
   "source": [
    "@rate_limiter(1)  # Apply the rate limiter to control API calls\n",
    "def get_current_price(symbol):\n",
    "    try:\n",
    "        current_prices = client.get_symbol_ticker(symbol=symbol)\n",
    "        current_price = float(current_prices['price'])\n",
    "        return current_price\n",
    "    except BinanceAPIException as e:\n",
    "        print(f\"API Exception occurred: {e.status_code} - {e.message}\")\n",
    "        return None\n",
    "    except Exception as e:\n",
    "        print(f\"An unexpected error occurred: {e}\")\n",
    "        return None"
   ]
  },
  {
   "cell_type": "markdown",
   "id": "0c3ad7ef",
   "metadata": {},
   "source": [
    "The present value of a specified cryptocurrency symbol (BTC) can be obtained by this function from the Binance API and a rate limitations is implemented to regulate the frequency of API requests. It correctly manages unforeseen problems and Binance API exceptions."
   ]
  },
  {
   "cell_type": "markdown",
   "id": "be3fbf90",
   "metadata": {},
   "source": [
    "# Prediction Example"
   ]
  },
  {
   "cell_type": "code",
   "execution_count": 40,
   "id": "d38edf5a",
   "metadata": {},
   "outputs": [
    {
     "name": "stdout",
     "output_type": "stream",
     "text": [
      "Current Price: 67576.56, Predicted Price: 67591.97855020862\n"
     ]
    }
   ],
   "source": [
    "# Example Prediction and Trading Logic\n",
    "current_price = get_current_price(symbol)\n",
    "\n",
    "# Predict next price using the loaded model\n",
    "latest_prices_scaled = prices_scaled[-4:].reshape(1, 4)\n",
    "\n",
    "# Predict next price using the loaded model\n",
    "predicted_price_scaled = loaded_model.predict(latest_prices_scaled)\n",
    "\n",
    "# Inverse transform the predicted price to get the actual price\n",
    "predicted_price = scaler.inverse_transform(predicted_price_scaled.reshape(-1, 1))[0][0]\n",
    "\n",
    "# Print the current and predicted prices\n",
    "print(f\"Current Price: {current_price}, Predicted Price: {predicted_price}\")"
   ]
  },
  {
   "cell_type": "markdown",
   "id": "5f3cbc26",
   "metadata": {},
   "source": [
    "# Tarding Logic And Actual Trading"
   ]
  },
  {
   "cell_type": "code",
   "execution_count": null,
   "id": "d6e0dccf",
   "metadata": {
    "scrolled": false
   },
   "outputs": [
    {
     "name": "stdout",
     "output_type": "stream",
     "text": [
      "Current Price: 67576.56, Predicted Price: 67591.96958693239\n",
      "Buy @Market Price: 67576.56, Timestamp: 2024-04-13 14:57:57.527157\n",
      "Current Price: 67542.77, Predicted Price: 67561.69163985024\n",
      "Current Price: 67552.02, Predicted Price: 67569.97370708053\n",
      "Current Price: 67588.02, Predicted Price: 67602.45544869806\n",
      "Current Price: 67639.24, Predicted Price: 67648.36534951357\n",
      "Current Price: 67638.23, Predicted Price: 67647.460058615\n",
      "Current Price: 67510.0, Predicted Price: 67532.52396760424\n",
      "Current Price: 67512.0, Predicted Price: 67534.31662284888\n",
      "Current Price: 67547.99, Predicted Price: 67566.57545397637\n",
      "Current Price: 67599.1, Predicted Price: 67612.38675875343\n",
      "Current Price: 67642.48, Predicted Price: 67651.26048773367\n",
      "Current Price: 67635.6, Predicted Price: 67645.10271696831\n",
      "Current Price: 67609.99, Predicted Price: 67622.15672983677\n",
      "Current Price: 67622.01, Predicted Price: 67632.93058785712\n",
      "Current Price: 67608.0, Predicted Price: 67620.37303786834\n",
      "Current Price: 67634.37, Predicted Price: 67644.00023399283\n",
      "Current Price: 67651.19, Predicted Price: 67659.06750132413\n",
      "Current Price: 67658.49, Predicted Price: 67692.9885038961\n",
      "Current Price: 67633.27, Predicted Price: 67670.37415798481\n",
      "Current Price: 67604.02, Predicted Price: 67644.16553830804\n",
      "Current Price: 67645.0, Predicted Price: 67680.8880809947\n",
      "Current Price: 67615.99, Predicted Price: 67654.89457994727\n",
      "Current Price: 67625.17, Predicted Price: 67663.1228675202\n",
      "Current Price: 67632.0, Predicted Price: 67669.2447851807\n",
      "Current Price: 67651.17, Predicted Price: 67686.41842242445\n",
      "Current Price: 67699.77, Predicted Price: 67729.98890814568\n",
      "Current Price: 67686.13, Predicted Price: 67717.76299937717\n",
      "Current Price: 67653.21, Predicted Price: 67688.25589405022\n",
      "Current Price: 67696.0, Predicted Price: 67726.60975300951\n",
      "Current Price: 67700.0, Predicted Price: 67730.18610022259\n",
      "Current Price: 67699.99, Predicted Price: 67730.18610022259\n",
      "Current Price: 67675.92, Predicted Price: 67708.61149435322\n",
      "Current Price: 67668.0, Predicted Price: 67705.71897691932\n",
      "Current Price: 67617.33, Predicted Price: 67660.3020562961\n",
      "Current Price: 67619.77, Predicted Price: 67662.48013241836\n",
      "Current Price: 67590.64, Predicted Price: 67636.37010878001\n",
      "Current Price: 67616.0, Predicted Price: 67662.68628777149\n",
      "Current Price: 67567.88, Predicted Price: 67615.9696920959\n",
      "Current Price: 67461.37, Predicted Price: 67520.51080031825\n",
      "Current Price: 67475.99, Predicted Price: 67533.60614688043\n"
     ]
    }
   ],
   "source": [
    "# Trading Logic And Actual Trading\n",
    "symbol = \"BTCUSDT\"  # Symbol of Pair\n",
    "quantity = '0.05'  # Quantity to trade\n",
    "order = False\n",
    "\n",
    "while True:\n",
    "    try:\n",
    "        # Fetch recent trades for the current price\n",
    "        recent_trades = client.get_recent_trades(symbol=symbol)\n",
    "        current_price = float(recent_trades[-1]['price'])  \n",
    "\n",
    "        # Fetch candle data for prediction\n",
    "        candles = client.get_klines(symbol=symbol, interval=Client.KLINE_INTERVAL_15MINUTE, limit=4)\n",
    "        model_data = np.array([float(candle[4]) for candle in candles]).reshape(-1, 1)\n",
    "        model_data_scaled = scaler.transform(model_data).reshape(1, 4)\n",
    "\n",
    "        # Predict the next price\n",
    "        predicted_price_scaled = loaded_model.predict(model_data_scaled)\n",
    "        predicted_price = scaler.inverse_transform(predicted_price_scaled.reshape(-1, 1))[0][0]\n",
    "\n",
    "        print(f\"Current Price: {current_price}, Predicted Price: {predicted_price}\")\n",
    "\n",
    "        # Trading decision based on the prediction\n",
    "        if not order and predicted_price > current_price:\n",
    "            order = True\n",
    "            # Place a market buy order\n",
    "            #buy_price = client.get_order_book(symbol=symbol)['asks'][0][0]\n",
    "            #buy_order = client.order_market_buy(symbol=symbol, quantity=quantity)\n",
    "            print(f\"Buy @Market Price: {current_price}, Timestamp: {datetime.now()}\")\n",
    "\n",
    "        elif order and current_price > predicted_price:\n",
    "            order = False\n",
    "            # Place a market sell order\n",
    "            #sell_price = client.get_order_book(symbol=symbol)['bids'][0][0]\n",
    "            #sell_order = client.order_market_sell(symbol=symbol, quantity=quantity)\n",
    "            print(f\"Sell @Market Price: {current_price}, Timestamp: {datetime.now()}\")\n",
    "\n",
    "    except BinanceAPIException as e:\n",
    "        print(f\"Binance API Exception: {e.message}\")\n",
    "    except BinanceOrderException as e:\n",
    "        print(f\"Binance Order Exception: {e.message}\")\n",
    "    except Exception as e:\n",
    "        print(f\"An unexpected error occurred: {e}\")\n",
    "\n",
    "    time.sleep(60)  # Wait before the next iteration to avoid hitting rate limits"
   ]
  },
  {
   "cell_type": "markdown",
   "id": "ae946041",
   "metadata": {},
   "source": [
    "A basic trading strategy based on price forecasts is demonstrated in this code section. It runs in a loop, regularly retrieving information from candlesticks and recent transaction data to predict the next change in price. It predicts the direction of price movement and then decides whether to execute a market buy or sell order for BTC Price. A comparison between the predicted cost and the current market price helps the process of decision-making. All noticed errors are appropriately handled to guarantee seamless operation, especially order exceptions and API problems. The script stops briefly in between iterations to avoid going above rate limitations."
   ]
  },
  {
   "cell_type": "markdown",
   "id": "37165be2",
   "metadata": {},
   "source": [
    "## References\n",
    "\n",
    "\n",
    "- Project on the Development of a Crypto Trading Bot. Detailed guide on creating and managing a cryptocurrency trading bot using Python and Binance API. Available at: https://dev.to/nicolasbonnici/how-to-build-a-crypto-bot-with-python-3-and-the-binance-api-part-1-1864\n",
    "- Application of Technical Analysis Strategies in Cryptocurrency Trading. Explanation and implementation of technical trading strategies using the Binance API. Available at: https://www.learndatasci.com/tutorials/algo-trading-crypto-bot-python-strategy-backtesting/\n",
    "\n",
    "- Handling Errors and API Management in Crypto Trading. Discussion on robust error handling techniques for maintaining operational stability of trading bots on Binance. Available at: https://www.learndatasci.com/tutorials/algo-trading-crypto-bot-python-strategy-backtesting/\n",
    "\n",
    "- Binance Trading API – Creating Your First Simple Crypto-Trading Bot. Available at: https://blog.finxter.com/binance-api-trading-bot/\n",
    "\n",
    "- Binance API documentation. https://binance-docs.github.io/apidocs/spot/en/\n",
    "\n",
    "- Al-Nefaie, A.H. and Aldhyani, T.H.H., 2022. Bitcoin Price Forecasting and Trading: Data Analytics Approaches. Electronics, 11(24), p.4088. Available at: https://www.mdpi.com/2079-9292/11/24/4088."
   ]
  }
 ],
 "metadata": {
  "kernelspec": {
   "display_name": "Python 3 (ipykernel)",
   "language": "python",
   "name": "python3"
  },
  "language_info": {
   "codemirror_mode": {
    "name": "ipython",
    "version": 3
   },
   "file_extension": ".py",
   "mimetype": "text/x-python",
   "name": "python",
   "nbconvert_exporter": "python",
   "pygments_lexer": "ipython3",
   "version": "3.9.13"
  }
 },
 "nbformat": 4,
 "nbformat_minor": 5
}
